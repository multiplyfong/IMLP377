{
 "cells": [
  {
   "cell_type": "markdown",
   "metadata": {},
   "source": [
    "# Linear Regression\n"
   ]
  },
  {
   "cell_type": "code",
   "execution_count": 4,
   "metadata": {},
   "outputs": [],
   "source": [
    "%matplotlib inline\n",
    "import numpy as np\n",
    "import matplotlib.pyplot as plt"
   ]
  },
  {
   "cell_type": "markdown",
   "metadata": {},
   "source": [
    "## 1. 線性迴歸基本概念"
   ]
  },
  {
   "cell_type": "markdown",
   "metadata": {},
   "source": [
    "#### 直線\n",
    "\n",
    "$$f(x) = 1.2x + 0.8$$\n",
    "\n"
   ]
  },
  {
   "cell_type": "code",
   "execution_count": 5,
   "metadata": {},
   "outputs": [
    {
     "name": "stdout",
     "output_type": "stream",
     "text": [
      "[0.         0.10204082 0.20408163 0.30612245 0.40816327 0.51020408\n",
      " 0.6122449  0.71428571 0.81632653 0.91836735 1.02040816 1.12244898\n",
      " 1.2244898  1.32653061 1.42857143 1.53061224 1.63265306 1.73469388\n",
      " 1.83673469 1.93877551 2.04081633 2.14285714 2.24489796 2.34693878\n",
      " 2.44897959 2.55102041 2.65306122 2.75510204 2.85714286 2.95918367\n",
      " 3.06122449 3.16326531 3.26530612 3.36734694 3.46938776 3.57142857\n",
      " 3.67346939 3.7755102  3.87755102 3.97959184 4.08163265 4.18367347\n",
      " 4.28571429 4.3877551  4.48979592 4.59183673 4.69387755 4.79591837\n",
      " 4.89795918 5.        ]\n"
     ]
    }
   ],
   "source": [
    "#準備 50 個點\n",
    "#5-0/50 = 0.1 +....\n",
    "# 0~5線性切割\n",
    "x = np.linspace(0, 5, 50)\n",
    "print(x)"
   ]
  },
  {
   "cell_type": "code",
   "execution_count": 6,
   "metadata": {},
   "outputs": [
    {
     "data": {
      "text/plain": [
       "array([0.8       , 0.92244898, 1.04489796, 1.16734694, 1.28979592,\n",
       "       1.4122449 , 1.53469388, 1.65714286, 1.77959184, 1.90204082,\n",
       "       2.0244898 , 2.14693878, 2.26938776, 2.39183673, 2.51428571,\n",
       "       2.63673469, 2.75918367, 2.88163265, 3.00408163, 3.12653061,\n",
       "       3.24897959, 3.37142857, 3.49387755, 3.61632653, 3.73877551,\n",
       "       3.86122449, 3.98367347, 4.10612245, 4.22857143, 4.35102041,\n",
       "       4.47346939, 4.59591837, 4.71836735, 4.84081633, 4.96326531,\n",
       "       5.08571429, 5.20816327, 5.33061224, 5.45306122, 5.5755102 ,\n",
       "       5.69795918, 5.82040816, 5.94285714, 6.06530612, 6.1877551 ,\n",
       "       6.31020408, 6.43265306, 6.55510204, 6.67755102, 6.8       ])"
      ]
     },
     "execution_count": 6,
     "metadata": {},
     "output_type": "execute_result"
    }
   ],
   "source": [
    "y = 1.2*x + 0.8\n",
    "y"
   ]
  },
  {
   "cell_type": "code",
   "execution_count": 7,
   "metadata": {},
   "outputs": [
    {
     "data": {
      "text/plain": [
       "[<matplotlib.lines.Line2D at 0x2975e7e09a0>]"
      ]
     },
     "execution_count": 7,
     "metadata": {},
     "output_type": "execute_result"
    },
    {
     "data": {
      "image/png": "[encoded data removed]",
      "text/plain": [
       "<Figure size 432x288 with 1 Axes>"
      ]
     },
     "metadata": {
      "needs_background": "light"
     },
     "output_type": "display_data"
    }
   ],
   "source": [
    "#畫圖\n",
    "plt.scatter(x,y)\n",
    "plt.plot(x, 1.2*x+0.8, 'r')"
   ]
  },
  {
   "cell_type": "markdown",
   "metadata": {},
   "source": [
    "#### add noise \n",
    "\n",
    "$$f(x) + \\varepsilon(x)$$\n"
   ]
  },
  {
   "cell_type": "code",
   "execution_count": 8,
   "metadata": {},
   "outputs": [
    {
     "name": "stdout",
     "output_type": "stream",
     "text": [
      "[ 1.12470738  1.39818056 -0.11655234  1.19851861  1.67829671  0.96717861\n",
      "  2.32139828  1.38812837  2.41232826  1.5516265   1.36895946  1.56771798\n",
      "  2.12983553  1.45076755  2.0732027   1.8206776   3.76556967  3.02165802\n",
      "  3.11157766  3.39419468  3.17871093  3.07628031  2.19002128  3.08061021\n",
      "  4.24409413  4.11006778  3.24411729  4.92666933  4.41364188  5.0177351\n",
      "  4.8012803   4.65131804  5.56743311  4.10861595  4.619988    6.10047789\n",
      "  4.84952629  5.49695966  6.69271505  4.87348849  6.73656704  6.39877707\n",
      "  6.06977479  6.15681455  6.19287474  6.12879118  6.17039046  7.75024993\n",
      "  6.84228319  6.83713757]\n"
     ]
    }
   ],
   "source": [
    "y = 1.2*x + 0.8 + 0.6*np.random.randn(50) # noise:0.6*np.random.randn(50) \n",
    "print(y)"
   ]
  },
  {
   "cell_type": "code",
   "execution_count": 9,
   "metadata": {},
   "outputs": [
    {
     "data": {
      "text/plain": [
       "[<matplotlib.lines.Line2D at 0x2975ef8e250>]"
      ]
     },
     "execution_count": 9,
     "metadata": {},
     "output_type": "execute_result"
    },
    {
     "data": {
      "image/png": "[encoded data removed]",
      "text/plain": [
       "<Figure size 432x288 with 1 Axes>"
      ]
     },
     "metadata": {
      "needs_background": "light"
     },
     "output_type": "display_data"
    }
   ],
   "source": [
    "plt.scatter(x,y)\n",
    "plt.plot(x, 1.2*x + 0.8, 'r')"
   ]
  },
  {
   "cell_type": "code",
   "execution_count": 10,
   "metadata": {},
   "outputs": [],
   "source": [
    "from sklearn.linear_model import LinearRegression\n",
    "regr = LinearRegression()"
   ]
  },
  {
   "cell_type": "code",
   "execution_count": 11,
   "metadata": {},
   "outputs": [
    {
     "name": "stdout",
     "output_type": "stream",
     "text": [
      "LinearRegression()\n"
     ]
    }
   ],
   "source": [
    "print(regr)"
   ]
  },
  {
   "cell_type": "markdown",
   "metadata": {},
   "source": [
    "要求資料轉換<br>\n",
    "\n",
    "$$[x_1, x_2, \\ldots, x_{50}]$$\n",
    "\n",
    "==> \n",
    "\n",
    "$$[[x_1], [x_2], \\ldots, [x_{50}]]$$\n",
    "\n",
    "\n",
    "矩陣的概念"
   ]
  },
  {
   "cell_type": "code",
   "execution_count": 12,
   "metadata": {},
   "outputs": [
    {
     "name": "stdout",
     "output_type": "stream",
     "text": [
      "(50,)\n",
      "<class 'numpy.ndarray'>\n"
     ]
    },
    {
     "data": {
      "text/plain": [
       "(50, 1)"
      ]
     },
     "execution_count": 12,
     "metadata": {},
     "output_type": "execute_result"
    }
   ],
   "source": [
    "print(x.shape)\n",
    "print(type(x))\n",
    "X = x.reshape(-1,1) #X必須要用2維\n",
    "X.shape"
   ]
  },
  {
   "cell_type": "code",
   "execution_count": 2,
   "metadata": {},
   "outputs": [
    {
     "ename": "NameError",
     "evalue": "name 'regr' is not defined",
     "output_type": "error",
     "traceback": [
      "\u001b[1;31m---------------------------------------------------------------------------\u001b[0m",
      "\u001b[1;31mNameError\u001b[0m                                 Traceback (most recent call last)",
      "Input \u001b[1;32mIn [2]\u001b[0m, in \u001b[0;36m<cell line: 1>\u001b[1;34m()\u001b[0m\n\u001b[1;32m----> 1\u001b[0m \u001b[43mregr\u001b[49m\u001b[38;5;241m.\u001b[39mfit(X,y)\n",
      "\u001b[1;31mNameError\u001b[0m: name 'regr' is not defined"
     ]
    }
   ],
   "source": [
    "regr.fit(X,y)  #fit出方程式(截距及斜率)"
   ]
  },
  {
   "cell_type": "code",
   "execution_count": 3,
   "metadata": {},
   "outputs": [
    {
     "ename": "NameError",
     "evalue": "name 'regr' is not defined",
     "output_type": "error",
     "traceback": [
      "\u001b[1;31m---------------------------------------------------------------------------\u001b[0m",
      "\u001b[1;31mNameError\u001b[0m                                 Traceback (most recent call last)",
      "Input \u001b[1;32mIn [3]\u001b[0m, in \u001b[0;36m<cell line: 1>\u001b[1;34m()\u001b[0m\n\u001b[1;32m----> 1\u001b[0m Y \u001b[38;5;241m=\u001b[39m \u001b[43mregr\u001b[49m\u001b[38;5;241m.\u001b[39mpredict(X) \u001b[38;5;66;03m#用X帶入方程式算出預估Y\u001b[39;00m\n\u001b[0;32m      2\u001b[0m \u001b[38;5;28mprint\u001b[39m(Y)\n",
      "\u001b[1;31mNameError\u001b[0m: name 'regr' is not defined"
     ]
    }
   ],
   "source": [
    "Y = regr.predict(X) #用X帶入方程式算出預估Y\n",
    "print(Y)"
   ]
  },
  {
   "cell_type": "code",
   "execution_count": 15,
   "metadata": {},
   "outputs": [
    {
     "data": {
      "text/plain": [
       "{'copy_X': True,\n",
       " 'fit_intercept': True,\n",
       " 'n_jobs': None,\n",
       " 'normalize': 'deprecated',\n",
       " 'positive': False}"
      ]
     },
     "execution_count": 15,
     "metadata": {},
     "output_type": "execute_result"
    }
   ],
   "source": [
    "#了解你的訓練參數\n",
    "regr.get_params()"
   ]
  },
  {
   "cell_type": "code",
   "execution_count": 16,
   "metadata": {},
   "outputs": [
    {
     "name": "stdout",
     "output_type": "stream",
     "text": [
      "0.4905511636539537\n"
     ]
    },
    {
     "data": {
      "image/png": "[encoded data removed]",
      "text/plain": [
       "<Figure size 432x288 with 1 Axes>"
      ]
     },
     "metadata": {
      "needs_background": "light"
     },
     "output_type": "display_data"
    }
   ],
   "source": [
    "plt.scatter(x, y) #原本 \n",
    "plt.plot(x, Y, 'ro') #預測\n",
    "#calculate mse\n",
    "mse = np.sum((Y-y)**2) / len(y)\n",
    "print(mse)"
   ]
  },
  {
   "cell_type": "code",
   "execution_count": 17,
   "metadata": {},
   "outputs": [
    {
     "data": {
      "text/plain": [
       "array([1.24224883])"
      ]
     },
     "execution_count": 17,
     "metadata": {},
     "output_type": "execute_result"
    }
   ],
   "source": [
    "#Y=WX+b\n",
    "W=regr.coef_#斜率\n",
    "W\n",
    "\n"
   ]
  },
  {
   "cell_type": "code",
   "execution_count": 18,
   "metadata": {},
   "outputs": [
    {
     "data": {
      "text/plain": [
       "0.6817141087273715"
      ]
     },
     "execution_count": 18,
     "metadata": {},
     "output_type": "execute_result"
    }
   ],
   "source": [
    "b=regr.intercept_ #截距\n",
    "b"
   ]
  },
  {
   "cell_type": "code",
   "execution_count": 19,
   "metadata": {},
   "outputs": [
    {
     "data": {
      "text/plain": [
       "array([0.68171411, 0.80847419, 0.93523428, 1.06199436, 1.18875445,\n",
       "       1.31551453, 1.44227462, 1.5690347 , 1.69579479, 1.82255487,\n",
       "       1.94931496, 2.07607504, 2.20283513, 2.32959521, 2.4563553 ,\n",
       "       2.58311538, 2.70987547, 2.83663555, 2.96339564, 3.09015572,\n",
       "       3.21691581, 3.34367589, 3.47043598, 3.59719606, 3.72395615,\n",
       "       3.85071623, 3.97747632, 4.1042364 , 4.23099648, 4.35775657,\n",
       "       4.48451665, 4.61127674, 4.73803682, 4.86479691, 4.99155699,\n",
       "       5.11831708, 5.24507716, 5.37183725, 5.49859733, 5.62535742,\n",
       "       5.7521175 , 5.87887759, 6.00563767, 6.13239776, 6.25915784,\n",
       "       6.38591793, 6.51267801, 6.6394381 , 6.76619818, 6.89295827])"
      ]
     },
     "execution_count": 19,
     "metadata": {},
     "output_type": "execute_result"
    }
   ],
   "source": [
    "Y"
   ]
  },
  {
   "cell_type": "code",
   "execution_count": 22,
   "metadata": {
    "scrolled": true
   },
   "outputs": [
    {
     "data": {
      "text/plain": [
       "array([0.93523428])"
      ]
     },
     "execution_count": 22,
     "metadata": {},
     "output_type": "execute_result"
    }
   ],
   "source": [
    "#可以將新的x資料帶入算出結果\n",
    "W*0.20408163+b"
   ]
  },
  {
   "cell_type": "code",
   "execution_count": 23,
   "metadata": {},
   "outputs": [
    {
     "data": {
      "text/plain": [
       "array([ 0.79977986,  0.11548197, -0.03930621,  0.72676562,  1.76812536,\n",
       "        2.16396034,  1.05281264,  1.77583001,  1.81135637,  2.10483756,\n",
       "        1.30881746,  1.80830159,  1.89921554,  3.20793324,  1.49428147,\n",
       "        3.23492977,  3.46303932,  2.42160716,  3.51960247,  4.11916224,\n",
       "        2.9803036 ,  4.058443  ,  2.70347167,  3.51998882,  4.21906743,\n",
       "        3.70249141,  4.65786533,  3.50490166,  5.27917573,  4.01623937,\n",
       "        3.53915019,  4.60774996,  4.08194759,  4.74289896,  5.70505596,\n",
       "        4.18084096,  4.97831083,  5.75783628,  5.6202755 ,  5.19001525,\n",
       "        6.26718594,  6.6933047 ,  4.55505413,  6.67472434,  5.16721483,\n",
       "        6.54033021,  6.4977892 ,  8.73342278,  5.6393009 ,  6.7959191 ])"
      ]
     },
     "execution_count": 23,
     "metadata": {},
     "output_type": "execute_result"
    }
   ],
   "source": [
    "y"
   ]
  },
  {
   "cell_type": "code",
   "execution_count": null,
   "metadata": {},
   "outputs": [],
   "source": []
  }
 ],
 "metadata": {
  "anaconda-cloud": {},
  "kernelspec": {
   "display_name": "Python 3 (ipykernel)",
   "language": "python",
   "name": "python3"
  },
  "language_info": {
   "codemirror_mode": {
    "name": "ipython",
    "version": 3
   },
   "file_extension": ".py",
   "mimetype": "text/x-python",
   "name": "python",
   "nbconvert_exporter": "python",
   "pygments_lexer": "ipython3",
   "version": "3.9.12"
  }
 },
 "nbformat": 4,
 "nbformat_minor": 1
}
